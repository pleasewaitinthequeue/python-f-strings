{
    "metadata": {
        "kernelspec": {
            "name": "python3",
            "display_name": "Python 3 (ipykernel)",
            "language": "python"
        },
        "language_info": {
            "name": "python",
            "version": "3.8.10",
            "mimetype": "text/x-python",
            "codemirror_mode": {
                "name": "ipython",
                "version": 3
            },
            "pygments_lexer": "ipython3",
            "nbconvert_exporter": "python",
            "file_extension": ".py"
        }
    },
    "nbformat_minor": 2,
    "nbformat": 4,
    "cells": [
        {
            "cell_type": "markdown",
            "source": [
                "# f-strings, a discussion\r\n",
                "\r\n",
                "[PEP-498](https://peps.python.org/pep-0498/)\r\n",
                "\r\n",
                "* Python has a number of ways to perform **string interpolation**\r\n",
                "* Each method has advantages and disadvantages for the programmer *(the user in this case)*\r\n",
                "* Our goal is to talk through each of these examples to understand why **PEP-498** or f-strings help us\r\n",
                "\r\n",
                "**interpolation** *is a math term broadly described as a type of estimation or construction, but in this context we can assume it has something to do with the construction, evaluation, and creation of strings.*"
            ],
            "metadata": {
                "azdata_cell_guid": "67e228a6-53aa-4c47-80b5-26162824c155"
            },
            "attachments": {}
        },
        {
            "cell_type": "markdown",
            "source": [
                "## Gluing strings together the old fashioned way\n",
                "\n",
                "In the example below, a **+** sign is used to concatenate strings.  This is a common programming symbol that you may find in other languages such as:  BASIC, C++, C#, Go, Java, JavaScript, **Python**, Ruby, Rust, Scala, Swift, and Windows Powershell."
            ],
            "metadata": {
                "azdata_cell_guid": "294a2ff4-0ab7-434e-bf41-6f25b07e325c"
            },
            "attachments": {}
        },
        {
            "cell_type": "code",
            "source": [
                "import datetime \r\n",
                "\r\n",
                "def fullname(firstname='', lastname=''):\r\n",
                "    return firstname + ' ' + lastname\r\n",
                "\r\n",
                "# traditional string interpolation\r\n",
                "firstname = 'Fred'\r\n",
                "lastname = 'Flintstone'\r\n",
                "birthdate = datetime.date(1963, 2, 2)\r\n",
                "age = datetime.date.today().year - birthdate.year\r\n",
                "\r\n",
                "#example:  you + have + to + glue + variables + together + with + a + sign\r\n",
                "\r\n",
                "#step 1:  print a greeting including first and last name\r\n",
                "print('Hello, I\\'m Fred Flintstone.')\r\n",
                "print('Hello, I\\'m ' + firstname + ' ' + lastname + '.')\r\n",
                "#step 2:  print a greeting including first, last, age and birthday\r\n",
                "print('Hello, I\\'m Fred Flintstone, and I turned 60 on Feb 2 (my birthday).')\r\n",
                "#print('Hello, I\\'m ' + firstname + ' ' + lastname + ', and I turned ' + age + ' on ' + birthdate + '.')\r\n",
                "#print('Hello, I\\'m ' + firstname + ' ' + lastname + ', and I turned ' + str(age) + ' on ' + birthdate + '.')\r\n",
                "#what can't we do?\r\n",
                "print('Hello, I\\'m ' + fullname(firstname, lastname) + ', and I turned ' + age + ' on ' + birthdate + '.')"
            ],
            "metadata": {
                "azdata_cell_guid": "7f1f9c66-4d1b-4184-9e8c-7e6d5de8b2e8",
                "language": "python",
                "tags": []
            },
            "outputs": [
                {
                    "output_type": "stream",
                    "name": "stdout",
                    "text": "Hello, I'm Fred Flintstone.\nHello, I'm Fred Flintstone.\nHello, I'm Fred Flintstone, and I turned 60 on Feb 2 (my birthday).\n"
                },
                {
                    "output_type": "error",
                    "ename": "TypeError",
                    "evalue": "can only concatenate str (not \"int\") to str",
                    "traceback": [
                        "\u001b[1;31m---------------------------------------------------------------------------\u001b[0m",
                        "\u001b[1;31mTypeError\u001b[0m                                 Traceback (most recent call last)",
                        "Cell \u001b[1;32mIn[1], line 22\u001b[0m\n\u001b[0;32m     18\u001b[0m \u001b[38;5;28mprint\u001b[39m(\u001b[38;5;124m'\u001b[39m\u001b[38;5;124mHello, I\u001b[39m\u001b[38;5;130;01m\\'\u001b[39;00m\u001b[38;5;124mm Fred Flintstone, and I turned 60 on Feb 2 (my birthday).\u001b[39m\u001b[38;5;124m'\u001b[39m)\n\u001b[0;32m     19\u001b[0m \u001b[38;5;66;03m#print('Hello, I\\'m ' + firstname + ' ' + lastname + ', and I turned ' + age + ' on ' + birthdate + '.')\u001b[39;00m\n\u001b[0;32m     20\u001b[0m \u001b[38;5;66;03m#print('Hello, I\\'m ' + firstname + ' ' + lastname + ', and I turned ' + str(age) + ' on ' + birthdate + '.')\u001b[39;00m\n\u001b[0;32m     21\u001b[0m \u001b[38;5;66;03m#what can't we do?\u001b[39;00m\n\u001b[1;32m---> 22\u001b[0m \u001b[38;5;28mprint\u001b[39m(\u001b[38;5;124;43m'\u001b[39;49m\u001b[38;5;124;43mHello, I\u001b[39;49m\u001b[38;5;130;43;01m\\'\u001b[39;49;00m\u001b[38;5;124;43mm \u001b[39;49m\u001b[38;5;124;43m'\u001b[39;49m\u001b[43m \u001b[49m\u001b[38;5;241;43m+\u001b[39;49m\u001b[43m \u001b[49m\u001b[43mfullname\u001b[49m\u001b[43m(\u001b[49m\u001b[43mfirstname\u001b[49m\u001b[43m,\u001b[49m\u001b[43m \u001b[49m\u001b[43mlastname\u001b[49m\u001b[43m)\u001b[49m\u001b[43m \u001b[49m\u001b[38;5;241;43m+\u001b[39;49m\u001b[43m \u001b[49m\u001b[38;5;124;43m'\u001b[39;49m\u001b[38;5;124;43m, and I turned \u001b[39;49m\u001b[38;5;124;43m'\u001b[39;49m\u001b[43m \u001b[49m\u001b[38;5;241;43m+\u001b[39;49m\u001b[43m \u001b[49m\u001b[43mage\u001b[49m \u001b[38;5;241m+\u001b[39m \u001b[38;5;124m'\u001b[39m\u001b[38;5;124m on \u001b[39m\u001b[38;5;124m'\u001b[39m \u001b[38;5;241m+\u001b[39m birthdate \u001b[38;5;241m+\u001b[39m \u001b[38;5;124m'\u001b[39m\u001b[38;5;124m.\u001b[39m\u001b[38;5;124m'\u001b[39m)\n",
                        "\u001b[1;31mTypeError\u001b[0m: can only concatenate str (not \"int\") to str"
                    ]
                }
            ],
            "execution_count": 1
        },
        {
            "cell_type": "markdown",
            "source": [
                "| Pythonic Usability Checklist | Yes | No |\r\n",
                "| ------- | --- | -- |\r\n",
                "| Parametrizes String? | | X |\r\n",
                "| Readable |  | X |\r\n",
                "| Terse (Short) | X | |\r\n",
                "| Handles Multiple Data Types |  | X |"
            ],
            "metadata": {
                "language": "python",
                "azdata_cell_guid": "ad52cb0b-95d4-4379-85d4-96126b127664"
            },
            "attachments": {}
        },
        {
            "cell_type": "markdown",
            "source": [
                "# %s formatting\n",
                "\n",
                "This method of string interpolation comes from a **C language** function called [**printf**](https://www.tutorialspoint.com/c_standard_library/c_function_printf.htm).\n",
                "\n",
                "Here's an example of **printf** so that we can revel in the familiarity and disapprove of all of the weird characters (;, {, }):\n",
                "\n",
                "```\n",
                "\n",
                "int main () {\n",
                "   int ch;\n",
                "\n",
                "   for( ch = 75 ; ch <= 100; ch++ ) {\n",
                "      printf(\"ASCII value = %d, Character = %c\\n\", ch , ch );\n",
                "   }\n",
                "\n",
                "   return(0);\n",
                "} \n",
                "\n",
                "```"
            ],
            "metadata": {
                "language": "python",
                "azdata_cell_guid": "6bdc34f0-de50-47da-abba-00193bec94de"
            },
            "attachments": {}
        },
        {
            "cell_type": "code",
            "source": [
                "import datetime \r\n",
                "\r\n",
                "def fullname(firstname='', lastname=''):\r\n",
                "    return firstname + ' ' + lastname\r\n",
                "\r\n",
                "# traditional string interpolation\r\n",
                "firstname = 'Fred'\r\n",
                "lastname = 'Flintstone'\r\n",
                "birthdate = datetime.date(1963, 2, 2)\r\n",
                "birthday = birthdate.strftime('%b%e')\r\n",
                "age = datetime.date.today().year - birthdate.year\r\n",
                "\r\n",
                "#example:  'these are words and %s' % 'this is a variable'\r\n",
                "\r\n",
                "#step 1:  print a greeting including first and last name\r\n",
                "print('Hello, I\\'m Fred Flintstone.')\r\n",
                "print('Hello, I\\'m %s %s.' % (firstname, lastname))\r\n",
                "#step 2:  print a greeting including first, last, age and birthday\r\n",
                "print('Hello, I\\'m Fred Flintstone, and I turned 60 on Feb 2 (my birthday).')\r\n",
                "print('Hello, I\\'m %s %s, and I turned %s on %s (my birthday).' % (firstname, lastname, age, birthday))\r\n",
                "print('Hello, I\\'m %s, and I turned %s on %s (my birthday).' \r\n",
                "% (fullname(firstname, lastname), age, birthday))"
            ],
            "metadata": {
                "language": "python",
                "azdata_cell_guid": "6f92d10e-143b-48c3-b1c2-953fed72aba2",
                "tags": []
            },
            "outputs": [
                {
                    "output_type": "stream",
                    "name": "stdout",
                    "text": "Hello, I'm Fred Flintstone.\nHello, I'm Fred Flintstone.\nHello, I'm Fred Flintstone, and I turned 60 on Feb 2 (my birthday).\nHello, I'm Fred Flintstone, and I turned 60 on Feb 2 (my birthday).\nHello, I'm Fred Flintstone, and I turned 60 on Feb 2 (my birthday).\n"
                }
            ],
            "execution_count": 3
        },
        {
            "cell_type": "markdown",
            "source": [
                "| Pythonic Usability Checklist | Yes | No |\r\n",
                "| ------- | --- | -- |\r\n",
                "| Parametrizes String? | X |  |\r\n",
                "| Readable | X | X |\r\n",
                "| Terse (Short) |  | X |\r\n",
                "| Handles Multiple Data Types | X  | X |"
            ],
            "metadata": {
                "language": "python",
                "azdata_cell_guid": "43cf4eb2-8a6a-4397-b062-15fc92f419d0"
            },
            "attachments": {}
        },
        {
            "cell_type": "markdown",
            "source": [
                "# String.Template\r\n",
                "[PEP-292](https://peps.python.org/pep-0292/) This proposal added templates in an attempt to do something simpler than % string interpolation."
            ],
            "metadata": {
                "language": "python",
                "azdata_cell_guid": "56a36218-915d-415a-8b76-70c8d7d1d88c"
            },
            "attachments": {}
        },
        {
            "cell_type": "code",
            "source": [
                "import datetime \r\n",
                "from string import Template\r\n",
                "\r\n",
                "def fullname(firstname='', lastname=''):\r\n",
                "    return firstname + ' ' + lastname\r\n",
                "\r\n",
                "# traditional string interpolation\r\n",
                "firstname = 'Fred'\r\n",
                "lastname = 'Flintstone'\r\n",
                "birthdate = datetime.date(1963, 2, 2)\r\n",
                "birthday = birthdate.strftime('%b%e')\r\n",
                "age = datetime.date.today().year - birthdate.year\r\n",
                "\r\n",
                "#example:  'these are words and %s' % 'this is a variable'\r\n",
                "\r\n",
                "#step 1:  print a greeting including first and last name\r\n",
                "print('Hello, I\\'m Fred Flintstone.')\r\n",
                "t1 = Template('Hello, I\\m $firstname $lastname.')\r\n",
                "print(t1.substitute(firstname=firstname, lastname=lastname))\r\n",
                "\r\n",
                "#step 2:  print a greeting including first, last, age and birthday\r\n",
                "print('Hello, I\\'m Fred Flintstone, and I turned 60 on Feb 2 (my birthday).')\r\n",
                "t2 = Template('Hello, I\\'m $firstname $lastname, and I turned $age on $birthday (my birthday).')\r\n",
                "print(t2.substitute(firstname=firstname, lastname=lastname, age=age, birthday=birthday))\r\n",
                "\r\n",
                "t3 = Template('Hello, I\\'m $fullname, and I turned $age on $birthday (my birthday).')\r\n",
                "print(t3.substitute(fullname=fullname(firstname, lastname), age=age, birthday=birthday))"
            ],
            "metadata": {
                "language": "python",
                "azdata_cell_guid": "cd3dd79d-8b2f-40a1-bd7c-b5764f6cf1cd",
                "tags": []
            },
            "outputs": [
                {
                    "output_type": "stream",
                    "name": "stdout",
                    "text": "Hello, I'm Fred Flintstone.\nHello, I\\m Fred Flintstone.\nHello, I'm Fred Flintstone, and I turned 60 on Feb 2 (my birthday).\nHello, I'm Fred Flintstone, and I turned 60 on Feb 2 (my birthday).\nHello, I'm Fred Flintstone, and I turned 60 on Feb 2 (my birthday).\n"
                }
            ],
            "execution_count": 5
        },
        {
            "cell_type": "markdown",
            "source": [
                "| Pythonic Usability Checklist | Yes | No |\r\n",
                "| ------- | --- | -- |\r\n",
                "| Parametrizes String? | X |  |\r\n",
                "| Readable | X |  |\r\n",
                "| Terse (Short) |  | X |\r\n",
                "| Handles Multiple Data Types | X |  |"
            ],
            "metadata": {
                "language": "python",
                "azdata_cell_guid": "5cb9d9df-16cd-43ed-9454-758e765edf64"
            },
            "attachments": {}
        },
        {
            "cell_type": "markdown",
            "source": [
                "# String.Format()\n",
                "\n",
                "[PEP-3101](https://peps.python.org/pep-3101/) In the rationale for this enhancement proposal they indicate that the other ways of doing string interpolation lack flexibility."
            ],
            "metadata": {
                "language": "python",
                "azdata_cell_guid": "2997bc38-5fad-461b-b24b-94f87ed729cf"
            },
            "attachments": {}
        },
        {
            "cell_type": "code",
            "source": [
                "import datetime \r\n",
                "\r\n",
                "def fullname(firstname='', lastname=''):\r\n",
                "    return firstname + ' ' + lastname\r\n",
                "\r\n",
                "# traditional string interpolation\r\n",
                "firstname = 'Fred'\r\n",
                "lastname = 'Flintstone'\r\n",
                "birthdate = datetime.date(1963, 2, 2)\r\n",
                "birthday = birthdate.strftime('%b%e')\r\n",
                "age = datetime.date.today().year - birthdate.year\r\n",
                "\r\n",
                "#example:  'these are words and %s' % 'this is a variable'\r\n",
                "\r\n",
                "#step 1:  print a greeting including first and last name\r\n",
                "print('Hello, I\\'m Fred Flintstone.')\r\n",
                "#use string.format for one variable\r\n",
                "print('Hello, I\\'m {}.'.format(firstname))\r\n",
                "#escape the {}?\r\n",
                "print('Hello, I\\'m {{{}}}.'.format(firstname))\r\n",
                "#escape multiple variables using arbitrary mix of numbers and keywords\r\n",
                "print('Hello, I\\'m {0} {lastname}.'.format(firstname, lastname=lastname))\r\n",
                "#escape multiple variables using keywords\r\n",
                "print('Hello, I\\'m {firstname} {lastname}.'.format(firstname=firstname, lastname=lastname))\r\n",
                "#step 2:  print a greeting including first, last, age and birthday\r\n",
                "print('Hello, I\\'m Fred Flintstone, and I turned 60 on Feb 2 (my birthday).')\r\n",
                "#but once we start to get a lot of numbers I might not be able to read my interpolated string code\r\n",
                "print('Hello, I\\'m {0} {1}, and I turned {2} on {3} (my birthday).'\r\n",
                ".format(firstname, lastname, age, birthday))\r\n",
                "#ahh....this is better....albeit much longer.\r\n",
                "print('Hello, I\\'m {firstname} {lastname}, and I turned {age} on {birthday} (my birthday).'\r\n",
                ".format(firstname=firstname, lastname=lastname, age=age, birthday=birthday))\r\n",
                "#ahh....this is better....albeit much longer.\r\n",
                "print('Hello, I\\'m {fullname}, and I turned {age} on {birthday} (my birthday).'\r\n",
                ".format(fullname=fullname(firstname, lastname), age=age, birthday=birthday))"
            ],
            "metadata": {
                "language": "python",
                "azdata_cell_guid": "8fe0c76f-0ea4-4d4d-adac-86ed0873a618",
                "tags": []
            },
            "outputs": [
                {
                    "output_type": "stream",
                    "name": "stdout",
                    "text": "Hello, I'm Fred Flintstone.\nHello, I'm Fred.\nHello, I'm {Fred}.\nHello, I'm Fred Flintstone.\nHello, I'm Fred Flintstone.\nHello, I'm Fred Flintstone, and I turned 60 on Feb 2 (my birthday).\nHello, I'm Fred Flintstone, and I turned 60 on Feb 2 (my birthday).\nHello, I'm Fred Flintstone, and I turned 60 on Feb 2 (my birthday).\nHello, I'm Fred Flintstone, and I turned 60 on Feb 2 (my birthday).\n"
                }
            ],
            "execution_count": 7
        },
        {
            "cell_type": "markdown",
            "source": [
                "# f-strings, a whole new world\n",
                "\n",
                "[PEP-498](https://peps.python.org/pep-0498/) this f-string implementation combines the best of some previous iterations of string interpolation.\n",
                "\n",
                "```\n",
                "f ' <text> { <expression> <optional !s, !r, or !a> <optional : format specifier> } <text> ... ' \n",
                "\n",
                "```\n",
                "\n",
                "Main Features:\n",
                "* Escape Sequences \n",
                "* Code Equivalence with .format()\n",
                "* Expression Evaluation\n",
                "\n",
                "[Python Tutorial at W3Schools](https://www.w3schools.com/python/ref_string_format.asp)\n",
                ""
            ],
            "metadata": {
                "language": "python",
                "azdata_cell_guid": "24851187-212e-4a7b-be83-bfc16549a0d7"
            },
            "attachments": {}
        },
        {
            "cell_type": "code",
            "source": [
                "import datetime \r\n",
                "\r\n",
                "def fullname(firstname='', lastname=''):\r\n",
                "    return firstname + ' ' + lastname\r\n",
                "\r\n",
                "# traditional string interpolation\r\n",
                "firstname = 'Fred'\r\n",
                "lastname = 'Flintstone'\r\n",
                "birthdate = datetime.date(1963, 2, 2)\r\n",
                "birthday = birthdate.strftime('%b%e')\r\n",
                "age = datetime.date.today().year - birthdate.year\r\n",
                "\r\n",
                "#example:  f'{var1} {var2}'\r\n",
                "\r\n",
                "#step 1:  print a greeting including first and last name\r\n",
                "print('Hello, I\\'m Fred Flintstone.')\r\n",
                "#use string.format for one variable\r\n",
                "print(f'Hello, I\\'m {{{firstname}}} {{{lastname}}}.')\r\n",
                "#step 2:  print a greeting including first, last, age and birthday\r\n",
                "print('Hello, I\\'m Fred Flintstone, and I turned 60 on Feb 2 (my birthday).')\r\n",
                "print(f'Hello, I\\'m {firstname} {lastname}, and I turned {age} on {birthday} (my birthday).')\r\n",
                "\r\n",
                "\r\n",
                "fred = {\r\n",
                "    \"firstname\": firstname,\r\n",
                "    \"lastname\": lastname,\r\n",
                "    \"birthdate\": birthdate,\r\n",
                "    \"birthday\": birthday,\r\n",
                "    \"age\": age\r\n",
                "}\r\n",
                "#let's do the same thing but with a dictionary notice the \" \" and ' '\r\n",
                "# f strings allow the use of '' or \"\" depending on how the string is enclosed\r\n",
                "print(f'Hello, I\\'m {fred[\"firstname\"]} {fred[\"lastname\"]}, and I turned {fred[\"age\"]} on {fred[\"birthday\"]} (my birthday).')\r\n",
                "print(f\"Hello, I'm {fred['firstname']} {fred['lastname']}, and I turned {fred['age']} on {fred['birthday']} (my birthday).\")\r\n",
                "\r\n",
                "#let's do some formatting inside of our thing, and maybe some other fancy stuff.\r\n",
                "print(f\"Hello, I'm {fullname(fred['firstname'], fred['lastname'])}, and I turned {fred['age']:.1f} on {fred['birthdate']:%b%e} (my birthday).\")\r\n",
                "\r\n",
                "#some tricks built into the specification !s = str(), !r = repr(), and !a = ascii()\r\n",
                "print(f'The !s, !r, !a constructions can be included:  {{age!s:}}: {age!s} or {{str(age)}}: {str(age)} (these are equivalent expressions) but are also redundant in this context.')\r\n",
                "print(f'I could not for the life of me think of a real reason to use lambda expressions, so here it is:  {{(lambda x: x*2)(3)}}: {(lambda x: x*3)(3)}')"
            ],
            "metadata": {
                "language": "python",
                "azdata_cell_guid": "1628acab-3447-4e54-8e47-a2853a5eb588",
                "tags": []
            },
            "outputs": [
                {
                    "output_type": "stream",
                    "name": "stdout",
                    "text": "Hello, I'm Fred Flintstone.\nHello, I'm {Fred} {Flintstone}.\nHello, I'm Fred Flintstone, and I turned 60 on Feb 2 (my birthday).\nHello, I'm Fred Flintstone, and I turned 60 on Feb 2 (my birthday).\nHello, I'm Fred Flintstone, and I turned 60 on Feb 2 (my birthday).\nHello, I'm Fred Flintstone, and I turned 60 on Feb 2 (my birthday).\nHello, I'm Fred Flintstone, and I turned 60 on Feb 2 (my birthday).\nHello, I'm Fred Flintstone, and I turned 60.0 on Feb 2 (my birthday).\nThe !s, !r, !a constructions can be included:  {age!s:}: 60 or {str(age)}: 60 (these are equivalent expressions) but are also redundant in this context.\nI could not for the life of me think of a real reason to use lambda expressions, so here it is:  {(lambda x: x*2)(3)}: 9\n"
                }
            ],
            "execution_count": 8
        },
        {
            "cell_type": "markdown",
            "source": [
                "| Pythonic Usability Checklist | Yes | No |\r\n",
                "| ------- | --- | -- |\r\n",
                "| Parametrizes String? | X |  |\r\n",
                "| Readable | X |  |\r\n",
                "| Terse (Short) | X |  |\r\n",
                "| Handles Multiple Data Types | X |  |"
            ],
            "metadata": {
                "language": "python",
                "azdata_cell_guid": "ec8a530d-6aae-42a2-80ed-d44ddb2944e2"
            },
            "attachments": {}
        },
        {
            "cell_type": "markdown",
            "source": [
                "# Here's some other Ideas\r\n",
                ""
            ],
            "metadata": {
                "language": "python",
                "azdata_cell_guid": "ea54fb33-ceab-44d8-95ef-fdf7e3c44ffc"
            },
            "attachments": {}
        },
        {
            "cell_type": "code",
            "source": [
                "import datetime \r\n",
                "# list of dictionaries about the flintstones, each dict is a family member\r\n",
                "flintstones = [\r\n",
                "    {\r\n",
                "        \"name\": 'Fred',\r\n",
                "        \"birthdate\": datetime.date(1963, 2, 2),\r\n",
                "        \"link\": \"https://en.wikipedia.org/wiki/Fred_Flintstone\"\r\n",
                "    },{\r\n",
                "        \"name\": 'Wilma',\r\n",
                "        \"birthdate\": datetime.date(1963, 10, 11),\r\n",
                "        \"link\": \"https://en.wikipedia.org/wiki/Wilma_Flintstone\"\r\n",
                "    },{\r\n",
                "        \"name\": 'Pebbles',\r\n",
                "        \"birthdate\": datetime.date(1993, 2, 22),\r\n",
                "        \"link\": \"https://en.wikipedia.org/wiki/Pebbles_Flintstone\"\r\n",
                "    },{\r\n",
                "        \"name\": 'Stoney',\r\n",
                "        \"birthdate\": datetime.date(1985, 12, 31),\r\n",
                "        \"link\": \"https://flintstones.fandom.com/wiki/Stoney_Flintstone\"\r\n",
                "    }\r\n",
                "]\r\n",
                "\r\n",
                "for flintstone in flintstones:\r\n",
                "    age = datetime.date.today().year - flintstone.get(\"birthdate\").year\r\n",
                "    # this xterm control sequence allows us to make a clickable link inside of the terminal below.\r\n",
                "    print(f'Hi, I\\'m {flintstone.get(\"name\")} Flintstone and I\\'m {age} years old. Visit \\x1b]8;;{flintstone.get(\"link\")}\\x1b\\\\the source\\x1b]8;;\\x1b\\\\ to learn more.')"
            ],
            "metadata": {
                "language": "python",
                "azdata_cell_guid": "c3975a29-9556-4c60-a5a7-6bb4dff899c4",
                "tags": []
            },
            "outputs": [],
            "execution_count": null
        },
        {
            "cell_type": "markdown",
            "source": [
                "# F Strings Can:\r\n",
                "* can evaluate a raw expression.\r\n",
                "\r\n",
                "# F Strings Cannot:  \r\n",
                "* 'Defer Evaluation' - F strings cannot defer evaluation.  Can't have a dictionary of different f strings, as soon as things are created they are evaluated.  \r\n",
                "* "
            ],
            "metadata": {
                "language": "python",
                "azdata_cell_guid": "147634f6-fe10-4a26-8266-d937fd4b8c49"
            },
            "attachments": {}
        },
        {
            "cell_type": "code",
            "source": [
                "var1 = 'foo'\r\n",
                "# {} comes from the 'SHELL LANGUAGE'\r\n",
                "var2 = rf'{var1}\\f\\g\\s\\x\\w\\\\\\''\r\n",
                "# r'' is raw string\r\n",
                "# cannot have \\ at end of line\r\n",
                "# this is different than !r (repr()) in f strings\r\n",
                "print(f'{var2}')"
            ],
            "metadata": {
                "azdata_cell_guid": "0f69cf41-9958-4f7d-aeef-26d5d0880ed5",
                "language": "python"
            },
            "outputs": [
                {
                    "output_type": "stream",
                    "name": "stdout",
                    "text": "foo\\f\\g\\s\\x\\w\\\\\\'\n"
                }
            ],
            "execution_count": 17
        },
        {
            "cell_type": "code",
            "source": [
                "var2 = r'{var1}\\f\\g\\s\\x\\w' + '\\\\'\r\n",
                "print(var2)\r\n",
                "\r\n",
                "print(r'C:\\my\\long\\filepath')\r\n",
                "print('C:/my/long/filepath')"
            ],
            "metadata": {
                "language": "python",
                "azdata_cell_guid": "dee3b05e-d217-4155-b047-de8cdfc1893f"
            },
            "outputs": [
                {
                    "output_type": "stream",
                    "name": "stdout",
                    "text": "{var1}\\f\\g\\s\\x\\w\\\nC:\\my\\long\\filepath\nC:/my/long/filepath\n"
                }
            ],
            "execution_count": 23
        },
        {
            "cell_type": "code",
            "source": [
                "foo = ' bob  '\r\n",
                "print(f'17{foo}')\r\n",
                "print(f'18{foo!s}')\r\n",
                "print(f'19{foo!r}')\r\n",
                "print(f'20{foo!a}') #when repr has characters that are not ASCII, it would replace them with unicode ch\r\n",
                "print(f'21foo={foo!r}')\r\n",
                "print(f'22{foo=}') # added in python 3.8 - print the expression literally, and print the repr value."
            ],
            "metadata": {
                "language": "python",
                "azdata_cell_guid": "cd987d83-caa2-4c4f-894c-308271476dd1"
            },
            "outputs": [
                {
                    "output_type": "stream",
                    "name": "stdout",
                    "text": "17 bob  \n18 bob  \n19' bob  '\n20' bob  '\n21foo=' bob  '\n22foo=' bob  '\n"
                }
            ],
            "execution_count": 28
        },
        {
            "cell_type": "code",
            "source": [
                "name = 'Bob'\r\n",
                "from math import pi\r\n",
                "age = 45\r\n",
                "# name is 10 chars left justified, pi is 7 chars, 6 int chars, 5 floating, \r\n",
                "print(f'{name:<10}  {pi:6.5f} {age!s:>5}')\r\n",
                "# handy for table command line\r\n",
                "print(f'{name:<10}  {pi*10000:10,.5f} {age!s:^15}') \r\n",
                "#by default strings are always left justified\r\n",
                "#if you were doing age then it would be right justified by default (because it's a number)"
            ],
            "metadata": {
                "language": "python",
                "azdata_cell_guid": "c57c5d63-0c57-480d-a5f7-8e82c04a4226"
            },
            "outputs": [
                {
                    "output_type": "stream",
                    "name": "stdout",
                    "text": "Bob         3.14159    45\nBob         31,415.92654       45       \n"
                }
            ],
            "execution_count": 34
        },
        {
            "cell_type": "code",
            "source": [
                "#arbitrary expressions inside the curley braces\r\n",
                "print(f'{2+3*5}')\r\n",
                "print(f'{2+3*5=}')\r\n",
                "print(f\"{f'this is a nested f string'}\")\r\n",
                "# john says we are going to do crazy stuff\r\n",
                "foo = 17\r\n",
                "variable_name = 'foo'\r\n",
                "print(f'{f\"{variable_name}\"=}')"
            ],
            "metadata": {
                "language": "python",
                "azdata_cell_guid": "c9000b31-5c75-46f3-8f07-9ac1fca250bb"
            },
            "outputs": [
                {
                    "output_type": "stream",
                    "name": "stdout",
                    "text": "17\n2+3*5=17\nthis is a nested f string\nf\"{variable_name}\"='foo'\n"
                }
            ],
            "execution_count": 39
        },
        {
            "cell_type": "code",
            "source": [
                "#building a template for people to use\r\n",
                "#simple as possible (plug n' play)\r\n",
                "#final report is cells in excel, with text with embedded values (paragraph per cell)\r\n",
                "#number of x for x month\r\n",
                "#the template has to include f strings f'' read in using open py xl, sheet is read as a dictionary\r\n",
                "#call eval on the dictionary (the same thing but without the f)\r\n",
                "\r\n",
                "#a good solution to this might be to read these values into a dictionary \r\n",
                "#and then call them into a template\r\n",
                "\r\n",
                "dict = {\r\n",
                "    '01-2023':200,\r\n",
                "    '02-2023':300,\r\n",
                "    '03-2023':250,\r\n",
                "    '04-2023':300\r\n",
                "}\r\n",
                "\r\n",
                "print(f'{dict[\"01-2023\"]=}')\r\n",
                "#or the other way\r\n",
                "print(f\"{dict['01-2023']=}\")"
            ],
            "metadata": {
                "language": "python",
                "azdata_cell_guid": "9b74aef6-26cc-488c-a68f-1f327d87c37c"
            },
            "outputs": [
                {
                    "name": "stdout",
                    "text": "dict[\"01-2023\"]=200\ndict['01-2023']=200\n",
                    "output_type": "stream"
                }
            ],
            "execution_count": 2
        },
        {
            "cell_type": "code",
            "source": [
                "#we can format a date string\r\n",
                "import datetime\r\n",
                "today = datetime.datetime.today()\r\n",
                "print(f'{today:%Y-%m-%d}')"
            ],
            "metadata": {
                "language": "python",
                "azdata_cell_guid": "88658f96-60c0-4396-9112-09b056c1ac76"
            },
            "outputs": [
                {
                    "output_type": "stream",
                    "name": "stdout",
                    "text": "2023-06-26\n"
                }
            ],
            "execution_count": 41
        },
        {
            "cell_type": "code",
            "source": [
                "#variable names an values persist from one cell to another.\r\n",
                "print(today)"
            ],
            "metadata": {
                "language": "python",
                "azdata_cell_guid": "9fb45930-5d97-4359-953d-755eb6375c5b"
            },
            "outputs": [
                {
                    "output_type": "stream",
                    "name": "stdout",
                    "text": "2023-06-26 20:15:13.623983\n"
                }
            ],
            "execution_count": 42
        },
        {
            "cell_type": "markdown",
            "source": [
                "Thanks for listening, reading, and accessing."
            ],
            "metadata": {
                "azdata_cell_guid": "f84184f2-90e7-4c8e-a9b5-410c14933e98"
            },
            "attachments": {}
        }
    ]
}