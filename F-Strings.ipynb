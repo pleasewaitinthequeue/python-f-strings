{
    "metadata": {
        "kernelspec": {
            "name": "python3",
            "display_name": "Python 3 (ipykernel)",
            "language": "python"
        },
        "language_info": {
            "name": "python",
            "version": "3.8.10",
            "mimetype": "text/x-python",
            "codemirror_mode": {
                "name": "ipython",
                "version": 3
            },
            "pygments_lexer": "ipython3",
            "nbconvert_exporter": "python",
            "file_extension": ".py"
        }
    },
    "nbformat_minor": 2,
    "nbformat": 4,
    "cells": [
        {
            "cell_type": "markdown",
            "source": [
                "# f-strings, a discussion\r\n",
                "\r\n",
                "[PEP-498](https://peps.python.org/pep-0498/)\r\n",
                "\r\n",
                "* Python has a number of ways to perform **string interpolation**\r\n",
                "* Each method has advantages and disadvantages for the programmer *(the user in this case)*\r\n",
                "* Our goal is to talk through each of these examples to understand why **PEP-498** or f-strings help us\r\n",
                "\r\n",
                "**interpolation** *is a math term broadly described as a type of estimation or construction, but in this context we can assume it has something to do with the construction, evaluation, and creation of strings.*"
            ],
            "metadata": {
                "azdata_cell_guid": "67e228a6-53aa-4c47-80b5-26162824c155"
            },
            "attachments": {}
        },
        {
            "cell_type": "markdown",
            "source": [
                "## Gluing strings together the old fashioned way\n",
                "\n",
                "In the example below, a **+** sign is used to concatenate strings.  This is a common programming symbol that you may find in other languages such as:  BASIC, C++, C#, Go, Java, JavaScript, **Python**, Ruby, Rust, Scala, Swift, and Windows Powershell."
            ],
            "metadata": {
                "azdata_cell_guid": "294a2ff4-0ab7-434e-bf41-6f25b07e325c"
            },
            "attachments": {}
        },
        {
            "cell_type": "code",
            "source": [
                "import datetime \r\n",
                "\r\n",
                "def fullname(firstname='', lastname=''):\r\n",
                "    return firstname + ' ' + lastname\r\n",
                "\r\n",
                "# traditional string interpolation\r\n",
                "firstname = 'Fred'\r\n",
                "lastname = 'Flintstone'\r\n",
                "birthdate = datetime.date(1963, 2, 2)\r\n",
                "age = datetime.date.today().year - birthdate.year\r\n",
                "\r\n",
                "#example:  you + have + to + glue + variables + together + with + a + sign\r\n",
                "\r\n",
                "#step 1:  print a greeting including first and last name\r\n",
                "print('Hello, I\\'m Fred Flintstone.')\r\n",
                "print('Hello, I\\'m ' + firstname + ' ' + lastname + '.')\r\n",
                "#step 2:  print a greeting including first, last, age and birthday\r\n",
                "print('Hello, I\\'m Fred Flintstone, and I turned 60 on Feb 2 (my birthday).')\r\n",
                "#print('Hello, I\\'m ' + firstname + ' ' + lastname + ', and I turned ' + age + ' on ' + birthdate + '.')\r\n",
                "#print('Hello, I\\'m ' + firstname + ' ' + lastname + ', and I turned ' + str(age) + ' on ' + birthdate + '.')\r\n",
                "#what can't we do?\r\n",
                "#print('Hello, I\\'m ' + fullname(firstname, lastname) + ', and I turned ' + age + ' on ' + birthdate + '.')"
            ],
            "metadata": {
                "azdata_cell_guid": "7f1f9c66-4d1b-4184-9e8c-7e6d5de8b2e8",
                "language": "python",
                "tags": []
            },
            "outputs": [],
            "execution_count": null
        },
        {
            "cell_type": "markdown",
            "source": [
                "| Pythonic Usability Checklist | Yes | No |\r\n",
                "| ------- | --- | -- |\r\n",
                "| Parametrizes String? | | X |\r\n",
                "| Readable |  | X |\r\n",
                "| Terse (Short) | X | |\r\n",
                "| Handles Multiple Data Types |  | X |"
            ],
            "metadata": {
                "language": "python",
                "azdata_cell_guid": "ad52cb0b-95d4-4379-85d4-96126b127664"
            },
            "attachments": {}
        },
        {
            "cell_type": "markdown",
            "source": [
                "# %s formatting\n",
                "\n",
                "This method of string interpolation comes from a **C language** function called [**printf**](https://www.tutorialspoint.com/c_standard_library/c_function_printf.htm).\n",
                "\n",
                "Here's an example of **printf** so that we can revel in the familiarity and disapprove of all of the weird characters (;, {, }):\n",
                "\n",
                "```\n",
                "\n",
                "int main () {\n",
                "   int ch;\n",
                "\n",
                "   for( ch = 75 ; ch <= 100; ch++ ) {\n",
                "      printf(\"ASCII value = %d, Character = %c\\n\", ch , ch );\n",
                "   }\n",
                "\n",
                "   return(0);\n",
                "} \n",
                "\n",
                "```"
            ],
            "metadata": {
                "language": "python",
                "azdata_cell_guid": "6bdc34f0-de50-47da-abba-00193bec94de"
            },
            "attachments": {}
        },
        {
            "cell_type": "code",
            "source": [
                "import datetime \r\n",
                "\r\n",
                "def fullname(firstname='', lastname=''):\r\n",
                "    return firstname + ' ' + lastname\r\n",
                "\r\n",
                "# traditional string interpolation\r\n",
                "firstname = 'Fred'\r\n",
                "lastname = 'Flintstone'\r\n",
                "birthdate = datetime.date(1963, 2, 2)\r\n",
                "birthday = birthdate.strftime('%b%e')\r\n",
                "age = datetime.date.today().year - birthdate.year\r\n",
                "\r\n",
                "#example:  'these are words and %s' % 'this is a variable'\r\n",
                "\r\n",
                "#step 1:  print a greeting including first and last name\r\n",
                "print('Hello, I\\'m Fred Flintstone.')\r\n",
                "print('Hello, I\\'m %s %s.' % (firstname, lastname))\r\n",
                "#step 2:  print a greeting including first, last, age and birthday\r\n",
                "print('Hello, I\\'m Fred Flintstone, and I turned 60 on Feb 2 (my birthday).')\r\n",
                "print('Hello, I\\'m %s %s, and I turned %s on %s (my birthday).' % (firstname, lastname, age, birthday))\r\n",
                "print('Hello, I\\'m %s, and I turned %s on %s (my birthday).' % (fullname(firstname, lastname), age, birthday))"
            ],
            "metadata": {
                "language": "python",
                "azdata_cell_guid": "6f92d10e-143b-48c3-b1c2-953fed72aba2",
                "tags": [
                    "hide_input"
                ]
            },
            "outputs": [],
            "execution_count": null
        },
        {
            "cell_type": "markdown",
            "source": [
                "| Pythonic Usability Checklist | Yes | No |\r\n",
                "| ------- | --- | -- |\r\n",
                "| Parametrizes String? | X |  |\r\n",
                "| Readable | X | X |\r\n",
                "| Terse (Short) |  | X |\r\n",
                "| Handles Multiple Data Types | X  | X |"
            ],
            "metadata": {
                "language": "python",
                "azdata_cell_guid": "43cf4eb2-8a6a-4397-b062-15fc92f419d0"
            },
            "attachments": {}
        },
        {
            "cell_type": "markdown",
            "source": [
                "# String.Template\r\n",
                "[PEP-292](https://peps.python.org/pep-0292/) This proposal added templates in an attempt to do something simpler than % string interpolation."
            ],
            "metadata": {
                "language": "python",
                "azdata_cell_guid": "56a36218-915d-415a-8b76-70c8d7d1d88c"
            },
            "attachments": {}
        },
        {
            "cell_type": "code",
            "source": [
                "import datetime \r\n",
                "from string import Template\r\n",
                "\r\n",
                "def fullname(firstname='', lastname=''):\r\n",
                "    return firstname + ' ' + lastname\r\n",
                "\r\n",
                "# traditional string interpolation\r\n",
                "firstname = 'Fred'\r\n",
                "lastname = 'Flintstone'\r\n",
                "birthdate = datetime.date(1963, 2, 2)\r\n",
                "birthday = birthdate.strftime('%b%e')\r\n",
                "age = datetime.date.today().year - birthdate.year\r\n",
                "\r\n",
                "#example:  'these are words and %s' % 'this is a variable'\r\n",
                "\r\n",
                "#step 1:  print a greeting including first and last name\r\n",
                "print('Hello, I\\'m Fred Flintstone.')\r\n",
                "t1 = Template('Hello, I\\m $firstname $lastname.')\r\n",
                "print(t1.substitute(firstname=firstname, lastname=lastname))\r\n",
                "\r\n",
                "#step 2:  print a greeting including first, last, age and birthday\r\n",
                "print('Hello, I\\'m Fred Flintstone, and I turned 60 on Feb 2 (my birthday).')\r\n",
                "t2 = Template('Hello, I\\'m $firstname $lastname, and I turned $age on $birthday (my birthday).')\r\n",
                "print(t2.substitute(firstname=firstname, lastname=lastname, age=age, birthday=birthday))\r\n",
                "\r\n",
                "#t3 = Template(Hello, I\\'m $fullname, and I turned $age on $birthday (my birthday).)\r\n",
                "#print(t3.substitute(fullname=fullname(firstname, lastname), age=age, birthday=birthday))"
            ],
            "metadata": {
                "language": "python",
                "azdata_cell_guid": "cd3dd79d-8b2f-40a1-bd7c-b5764f6cf1cd",
                "tags": [
                    "hide_input"
                ]
            },
            "outputs": [],
            "execution_count": null
        },
        {
            "cell_type": "markdown",
            "source": [
                "| Pythonic Usability Checklist | Yes | No |\r\n",
                "| ------- | --- | -- |\r\n",
                "| Parametrizes String? | X |  |\r\n",
                "| Readable | X |  |\r\n",
                "| Terse (Short) |  | X |\r\n",
                "| Handles Multiple Data Types | X |  |"
            ],
            "metadata": {
                "language": "python",
                "azdata_cell_guid": "5cb9d9df-16cd-43ed-9454-758e765edf64"
            },
            "attachments": {}
        },
        {
            "cell_type": "markdown",
            "source": [
                "# String.Format()\n",
                "\n",
                "[PEP-3101](https://peps.python.org/pep-3101/) In the rationale for this enhancement proposal they indicate that the other ways of doing string interpolation lack flexibility."
            ],
            "metadata": {
                "language": "python",
                "azdata_cell_guid": "2997bc38-5fad-461b-b24b-94f87ed729cf"
            },
            "attachments": {}
        },
        {
            "cell_type": "code",
            "source": [
                "import datetime \r\n",
                "\r\n",
                "def fullname(firstname='', lastname=''):\r\n",
                "    return firstname + ' ' + lastname\r\n",
                "\r\n",
                "# traditional string interpolation\r\n",
                "firstname = 'Fred'\r\n",
                "lastname = 'Flintstone'\r\n",
                "birthdate = datetime.date(1963, 2, 2)\r\n",
                "birthday = birthdate.strftime('%b%e')\r\n",
                "age = datetime.date.today().year - birthdate.year\r\n",
                "\r\n",
                "#example:  'these are words and %s' % 'this is a variable'\r\n",
                "\r\n",
                "#step 1:  print a greeting including first and last name\r\n",
                "print('Hello, I\\'m Fred Flintstone.')\r\n",
                "#use string.format for one variable\r\n",
                "print('Hello, I\\'m {}.'.format(firstname))\r\n",
                "#escape the {}?\r\n",
                "print('Hello, I\\'m {{{}}}.'.format(firstname))\r\n",
                "#escape multiple variables using arbitrary mix of numbers and keywords\r\n",
                "print('Hello, I\\'m {0} {lastname}.'.format(firstname, lastname=lastname))\r\n",
                "#escape multiple variables using keywords\r\n",
                "print('Hello, I\\'m {firstname} {lastname}.'.format(firstname=firstname, lastname=lastname))\r\n",
                "#step 2:  print a greeting including first, last, age and birthday\r\n",
                "print('Hello, I\\'m Fred Flintstone, and I turned 60 on Feb 2 (my birthday).')\r\n",
                "#but once we start to get a lot of numbers I might not be able to read my interpolated string code\r\n",
                "print('Hello, I\\'m {0} {1}, and I turned {2} on {3} (my birthday).'.format(firstname, lastname, age, birthday))\r\n",
                "#ahh....this is better....albeit much longer.\r\n",
                "print('Hello, I\\'m {firstname} {lastname}, and I turned {age} on {birthday} (my birthday).'.format(firstname=firstname, lastname=lastname, age=age, birthday=birthday))\r\n",
                "#ahh....this is better....albeit much longer.\r\n",
                "print('Hello, I\\'m {fullname}, and I turned {age} on {birthday} (my birthday).'.format(fullname=fullname(firstname, lastname), age=age, birthday=birthday))"
            ],
            "metadata": {
                "language": "python",
                "azdata_cell_guid": "8fe0c76f-0ea4-4d4d-adac-86ed0873a618",
                "tags": []
            },
            "outputs": [],
            "execution_count": null
        },
        {
            "cell_type": "markdown",
            "source": [
                "# f-strings, a whole new world\n",
                "\n",
                "[PEP-498](https://peps.python.org/pep-0498/) this f-string implementation combines the best of some previous iterations of string interpolation.\n",
                "\n",
                "```\n",
                "f ' <text> { <expression> <optional !s, !r, or !a> <optional : format specifier> } <text> ... ' \n",
                "\n",
                "```\n",
                "\n",
                "Main Features:\n",
                "* Escape Sequences \n",
                "* Code Equivalence with .format()\n",
                "* Expression Evaluation\n",
                "\n",
                "[Python Tutorial at W3Schools](https://www.w3schools.com/python/ref_string_format.asp)\n",
                ""
            ],
            "metadata": {
                "language": "python",
                "azdata_cell_guid": "24851187-212e-4a7b-be83-bfc16549a0d7"
            },
            "attachments": {}
        },
        {
            "cell_type": "code",
            "source": [
                "import datetime \r\n",
                "\r\n",
                "def fullname(firstname='', lastname=''):\r\n",
                "    return firstname + ' ' + lastname\r\n",
                "\r\n",
                "# traditional string interpolation\r\n",
                "firstname = 'Fred'\r\n",
                "lastname = 'Flintstone'\r\n",
                "birthdate = datetime.date(1963, 2, 2)\r\n",
                "birthday = birthdate.strftime('%b%e')\r\n",
                "age = datetime.date.today().year - birthdate.year\r\n",
                "\r\n",
                "#example:  f'{var1} {var2}'\r\n",
                "\r\n",
                "#step 1:  print a greeting including first and last name\r\n",
                "print('Hello, I\\'m Fred Flintstone.')\r\n",
                "#use string.format for one variable\r\n",
                "print(f'Hello, I\\'m {{{firstname}}} {{{lastname}}}.')\r\n",
                "#step 2:  print a greeting including first, last, age and birthday\r\n",
                "print('Hello, I\\'m Fred Flintstone, and I turned 60 on Feb 2 (my birthday).')\r\n",
                "print(f'Hello, I\\'m {firstname} {lastname}, and I turned {age} on {birthday} (my birthday).')\r\n",
                "\r\n",
                "fred = {\r\n",
                "    \"firstname\": firstname,\r\n",
                "    \"lastname\": lastname,\r\n",
                "    \"birthdate\": birthdate,\r\n",
                "    \"birthday\": birthday,\r\n",
                "    \"age\": age\r\n",
                "}\r\n",
                "#let's do the same thing but with a dictionary notice the \" \" and ' '\r\n",
                "# f strings allow the use of '' or \"\" depending on how the string is enclosed\r\n",
                "print(f'Hello, I\\'m {fred[\"firstname\"]} {fred[\"lastname\"]}, and I turned {fred[\"age\"]} on {fred[\"birthday\"]} (my birthday).')\r\n",
                "print(f\"Hello, I'm {fred['firstname']} {fred['lastname']}, and I turned {fred['age']} on {fred['birthday']} (my birthday).\")\r\n",
                "\r\n",
                "#let's do some formatting inside of our thing, and maybe some other fancy stuff.\r\n",
                "print(f\"Hello, I'm {fullname(fred['firstname'], fred['lastname'])}, and I turned {fred['age']:.1f} on {fred['birthdate']:%b%e} (my birthday).\")\r\n",
                "\r\n",
                "#some tricks built into the specification !s = str(), !r = repr(), and !a = ascii()\r\n",
                "print(f'The !s, !r, !a constructions can be included:  {{age!s:}}: {age!s} or {{str(age)}}: {str(age)} (these are equivalent expressions) but are also redundant in this context.')\r\n",
                "print(f'I could not for the life of me think of a real reason to use lambda expressions, so here it is:  {{(lambda x: x*2)(3)}}: {(lambda x: x*3)(3)}')"
            ],
            "metadata": {
                "language": "python",
                "azdata_cell_guid": "1628acab-3447-4e54-8e47-a2853a5eb588",
                "tags": []
            },
            "outputs": [
                {
                    "name": "stdout",
                    "text": "Hello, I'm Fred Flintstone.\nHello, I'm {Fred} {Flintstone}.\nHello, I'm Fred Flintstone, and I turned 60 on Feb 2 (my birthday).\nHello, I'm Fred Flintstone, and I turned 60 on Feb 2 (my birthday).\nHello, I'm Fred Flintstone, and I turned 60 on Feb 2 (my birthday).\nHello, I'm Fred Flintstone, and I turned 60 on Feb 2 (my birthday).\nHello, I'm Fred Flintstone, and I turned 60.0 on Feb 2 (my birthday).\nThe !s, !r, !a constructions can be included:  {age!s:}: 60 or {str(age)}: 60 (these are equivalent expressions) but are also redundant in this context.\nI could not for the life of me think of a real reason to use lambda expressions, so here it is:  {(lambda x: x*2)(3)}: 9\n",
                    "output_type": "stream"
                }
            ],
            "execution_count": 14
        },
        {
            "cell_type": "markdown",
            "source": [
                "| Pythonic Usability Checklist | Yes | No |\r\n",
                "| ------- | --- | -- |\r\n",
                "| Parametrizes String? | X |  |\r\n",
                "| Readable | X |  |\r\n",
                "| Terse (Short) | X |  |\r\n",
                "| Handles Multiple Data Types | X |  |"
            ],
            "metadata": {
                "language": "python",
                "azdata_cell_guid": "ec8a530d-6aae-42a2-80ed-d44ddb2944e2"
            },
            "attachments": {}
        },
        {
            "cell_type": "markdown",
            "source": [
                "# Here's some other Ideas\r\n",
                ""
            ],
            "metadata": {
                "language": "python",
                "azdata_cell_guid": "ea54fb33-ceab-44d8-95ef-fdf7e3c44ffc"
            },
            "attachments": {}
        },
        {
            "cell_type": "code",
            "source": [
                "import datetime \r\n",
                "# list of dictionaries about the flintstones, each dict is a family member\r\n",
                "flintstones = [\r\n",
                "    {\r\n",
                "        \"name\": 'Fred',\r\n",
                "        \"birthdate\": datetime.date(1963, 2, 2),\r\n",
                "        \"link\": \"https://en.wikipedia.org/wiki/Fred_Flintstone\"\r\n",
                "    },{\r\n",
                "        \"name\": 'Wilma',\r\n",
                "        \"birthdate\": datetime.date(1963, 10, 11),\r\n",
                "        \"link\": \"https://en.wikipedia.org/wiki/Wilma_Flintstone\"\r\n",
                "    },{\r\n",
                "        \"name\": 'Pebbles',\r\n",
                "        \"birthdate\": datetime.date(1993, 2, 22),\r\n",
                "        \"link\": \"https://en.wikipedia.org/wiki/Pebbles_Flintstone\"\r\n",
                "    },{\r\n",
                "        \"name\": 'Stoney',\r\n",
                "        \"birthdate\": datetime.date(1985, 12, 31),\r\n",
                "        \"link\": \"https://flintstones.fandom.com/wiki/Stoney_Flintstone\"\r\n",
                "    }\r\n",
                "]\r\n",
                "\r\n",
                "for flintstone in flintstones:\r\n",
                "    age = datetime.date.today().year - flintstone.get(\"birthdate\").year\r\n",
                "    # this xterm control sequence allows us to make a clickable link inside of the terminal below.\r\n",
                "    print(f'Hi, I\\'m {flintstone.get(\"name\")} Flintstone and I\\'m {age} years old. Visit \\x1b]8;;{flintstone.get(\"link\")}\\x1b\\\\the source\\x1b]8;;\\x1b\\\\ to learn more.')"
            ],
            "metadata": {
                "language": "python",
                "azdata_cell_guid": "c3975a29-9556-4c60-a5a7-6bb4dff899c4",
                "tags": []
            },
            "outputs": [],
            "execution_count": null
        }
    ]
}